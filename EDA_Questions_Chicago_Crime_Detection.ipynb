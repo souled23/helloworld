{
  "nbformat": 4,
  "nbformat_minor": 0,
  "metadata": {
    "colab": {
      "name": "EDA Questions_Chicago_Crime_Detection.ipynb",
      "provenance": [],
      "collapsed_sections": [],
      "include_colab_link": true
    },
    "kernelspec": {
      "name": "python3",
      "display_name": "Python 3"
    }
  },
  "cells": [
    {
      "cell_type": "markdown",
      "metadata": {
        "id": "view-in-github",
        "colab_type": "text"
      },
      "source": [
        "<a href=\"https://colab.research.google.com/github/souled23/helloworld/blob/main/EDA_Questions_Chicago_Crime_Detection.ipynb\" target=\"_parent\"><img src=\"https://colab.research.google.com/assets/colab-badge.svg\" alt=\"Open In Colab\"/></a>"
      ]
    },
    {
      "cell_type": "markdown",
      "metadata": {
        "id": "rb0oSzAdUkNg"
      },
      "source": [
        "**Helpful Material:**\n",
        "\n",
        "1) https://www.shanelynn.ie/summarising-aggregation-and-grouping-data-in-python-pandas/\n",
        "\n",
        "2) Helpful function: df.value_counts()\n",
        "\n",
        "**Learning objective**\n",
        "*  EDA\n",
        "*  Getting familiar with datetime operations\n"
      ]
    },
    {
      "cell_type": "code",
      "metadata": {
        "id": "J6GZan3pW0nK"
      },
      "source": [
        "# Loading Libraries\n",
        "import numpy as np\n",
        "import pandas as pd\n",
        "\n",
        "# ignoring warnings\n",
        "import warnings\n",
        "warnings.filterwarnings(\"ignore\")"
      ],
      "execution_count": 16,
      "outputs": []
    },
    {
      "cell_type": "code",
      "metadata": {
        "id": "WMCiv1GOXFh-"
      },
      "source": [
        "#load data\n",
        "chicago_data = pd.read_csv(\"https://raw.githubusercontent.com/dphi-official/Datasets/master/Chicago_Crime_Detective.csv\",index_col=0)"
      ],
      "execution_count": 17,
      "outputs": []
    },
    {
      "cell_type": "code",
      "metadata": {
        "colab": {
          "base_uri": "https://localhost:8080/",
          "height": 204
        },
        "id": "s1CIhqswTLEa",
        "outputId": "6df06838-2252-4729-eb3e-a626d8df70ab"
      },
      "source": [
        "chicago_data.head()"
      ],
      "execution_count": 18,
      "outputs": [
        {
          "output_type": "execute_result",
          "data": {
            "text/html": [
              "<div>\n",
              "<style scoped>\n",
              "    .dataframe tbody tr th:only-of-type {\n",
              "        vertical-align: middle;\n",
              "    }\n",
              "\n",
              "    .dataframe tbody tr th {\n",
              "        vertical-align: top;\n",
              "    }\n",
              "\n",
              "    .dataframe thead th {\n",
              "        text-align: right;\n",
              "    }\n",
              "</style>\n",
              "<table border=\"1\" class=\"dataframe\">\n",
              "  <thead>\n",
              "    <tr style=\"text-align: right;\">\n",
              "      <th></th>\n",
              "      <th>ID</th>\n",
              "      <th>Date</th>\n",
              "      <th>LocationDescription</th>\n",
              "      <th>Arrest</th>\n",
              "      <th>Domestic</th>\n",
              "      <th>Beat</th>\n",
              "      <th>District</th>\n",
              "      <th>CommunityArea</th>\n",
              "      <th>Year</th>\n",
              "    </tr>\n",
              "  </thead>\n",
              "  <tbody>\n",
              "    <tr>\n",
              "      <th>0</th>\n",
              "      <td>8951354</td>\n",
              "      <td>12/31/12 23:15</td>\n",
              "      <td>STREET</td>\n",
              "      <td>False</td>\n",
              "      <td>False</td>\n",
              "      <td>623</td>\n",
              "      <td>6</td>\n",
              "      <td>69</td>\n",
              "      <td>2012</td>\n",
              "    </tr>\n",
              "    <tr>\n",
              "      <th>1</th>\n",
              "      <td>8951141</td>\n",
              "      <td>12/31/12 22:00</td>\n",
              "      <td>STREET</td>\n",
              "      <td>False</td>\n",
              "      <td>False</td>\n",
              "      <td>1213</td>\n",
              "      <td>12</td>\n",
              "      <td>24</td>\n",
              "      <td>2012</td>\n",
              "    </tr>\n",
              "    <tr>\n",
              "      <th>2</th>\n",
              "      <td>8952745</td>\n",
              "      <td>12/31/12 22:00</td>\n",
              "      <td>RESIDENTIAL YARD (FRONT/BACK)</td>\n",
              "      <td>False</td>\n",
              "      <td>False</td>\n",
              "      <td>1622</td>\n",
              "      <td>16</td>\n",
              "      <td>11</td>\n",
              "      <td>2012</td>\n",
              "    </tr>\n",
              "    <tr>\n",
              "      <th>3</th>\n",
              "      <td>8952223</td>\n",
              "      <td>12/31/12 22:00</td>\n",
              "      <td>STREET</td>\n",
              "      <td>False</td>\n",
              "      <td>False</td>\n",
              "      <td>724</td>\n",
              "      <td>7</td>\n",
              "      <td>67</td>\n",
              "      <td>2012</td>\n",
              "    </tr>\n",
              "    <tr>\n",
              "      <th>4</th>\n",
              "      <td>8951608</td>\n",
              "      <td>12/31/12 21:30</td>\n",
              "      <td>STREET</td>\n",
              "      <td>False</td>\n",
              "      <td>False</td>\n",
              "      <td>211</td>\n",
              "      <td>2</td>\n",
              "      <td>35</td>\n",
              "      <td>2012</td>\n",
              "    </tr>\n",
              "  </tbody>\n",
              "</table>\n",
              "</div>"
            ],
            "text/plain": [
              "        ID            Date  ... CommunityArea  Year\n",
              "0  8951354  12/31/12 23:15  ...            69  2012\n",
              "1  8951141  12/31/12 22:00  ...            24  2012\n",
              "2  8952745  12/31/12 22:00  ...            11  2012\n",
              "3  8952223  12/31/12 22:00  ...            67  2012\n",
              "4  8951608  12/31/12 21:30  ...            35  2012\n",
              "\n",
              "[5 rows x 9 columns]"
            ]
          },
          "metadata": {
            "tags": []
          },
          "execution_count": 18
        }
      ]
    },
    {
      "cell_type": "code",
      "metadata": {
        "colab": {
          "base_uri": "https://localhost:8080/"
        },
        "id": "u7SFim6qTQhM",
        "outputId": "cf1b3b6a-c455-489f-b449-c1472494b471"
      },
      "source": [
        "chicago_data.shape\n"
      ],
      "execution_count": 19,
      "outputs": [
        {
          "output_type": "execute_result",
          "data": {
            "text/plain": [
              "(191641, 9)"
            ]
          },
          "metadata": {
            "tags": []
          },
          "execution_count": 19
        }
      ]
    },
    {
      "cell_type": "code",
      "metadata": {
        "id": "aU91W6VKZv7c"
      },
      "source": [
        "import dateutil"
      ],
      "execution_count": 20,
      "outputs": []
    },
    {
      "cell_type": "code",
      "metadata": {
        "id": "zvG45hKsZ2ly"
      },
      "source": [
        "# Convert date from string to date times\n",
        "chicago_data['Date'] = chicago_data['Date'].apply(dateutil.parser.parse, dayfirst=True)"
      ],
      "execution_count": 22,
      "outputs": []
    },
    {
      "cell_type": "code",
      "metadata": {
        "colab": {
          "base_uri": "https://localhost:8080/",
          "height": 204
        },
        "id": "EryGkXC2aQP-",
        "outputId": "ca1ff441-d7b2-4e80-e36d-829cfe997402"
      },
      "source": [
        "chicago_data.head()"
      ],
      "execution_count": 23,
      "outputs": [
        {
          "output_type": "execute_result",
          "data": {
            "text/html": [
              "<div>\n",
              "<style scoped>\n",
              "    .dataframe tbody tr th:only-of-type {\n",
              "        vertical-align: middle;\n",
              "    }\n",
              "\n",
              "    .dataframe tbody tr th {\n",
              "        vertical-align: top;\n",
              "    }\n",
              "\n",
              "    .dataframe thead th {\n",
              "        text-align: right;\n",
              "    }\n",
              "</style>\n",
              "<table border=\"1\" class=\"dataframe\">\n",
              "  <thead>\n",
              "    <tr style=\"text-align: right;\">\n",
              "      <th></th>\n",
              "      <th>ID</th>\n",
              "      <th>Date</th>\n",
              "      <th>LocationDescription</th>\n",
              "      <th>Arrest</th>\n",
              "      <th>Domestic</th>\n",
              "      <th>Beat</th>\n",
              "      <th>District</th>\n",
              "      <th>CommunityArea</th>\n",
              "      <th>Year</th>\n",
              "    </tr>\n",
              "  </thead>\n",
              "  <tbody>\n",
              "    <tr>\n",
              "      <th>0</th>\n",
              "      <td>8951354</td>\n",
              "      <td>2012-12-31 23:15:00</td>\n",
              "      <td>STREET</td>\n",
              "      <td>False</td>\n",
              "      <td>False</td>\n",
              "      <td>623</td>\n",
              "      <td>6</td>\n",
              "      <td>69</td>\n",
              "      <td>2012</td>\n",
              "    </tr>\n",
              "    <tr>\n",
              "      <th>1</th>\n",
              "      <td>8951141</td>\n",
              "      <td>2012-12-31 22:00:00</td>\n",
              "      <td>STREET</td>\n",
              "      <td>False</td>\n",
              "      <td>False</td>\n",
              "      <td>1213</td>\n",
              "      <td>12</td>\n",
              "      <td>24</td>\n",
              "      <td>2012</td>\n",
              "    </tr>\n",
              "    <tr>\n",
              "      <th>2</th>\n",
              "      <td>8952745</td>\n",
              "      <td>2012-12-31 22:00:00</td>\n",
              "      <td>RESIDENTIAL YARD (FRONT/BACK)</td>\n",
              "      <td>False</td>\n",
              "      <td>False</td>\n",
              "      <td>1622</td>\n",
              "      <td>16</td>\n",
              "      <td>11</td>\n",
              "      <td>2012</td>\n",
              "    </tr>\n",
              "    <tr>\n",
              "      <th>3</th>\n",
              "      <td>8952223</td>\n",
              "      <td>2012-12-31 22:00:00</td>\n",
              "      <td>STREET</td>\n",
              "      <td>False</td>\n",
              "      <td>False</td>\n",
              "      <td>724</td>\n",
              "      <td>7</td>\n",
              "      <td>67</td>\n",
              "      <td>2012</td>\n",
              "    </tr>\n",
              "    <tr>\n",
              "      <th>4</th>\n",
              "      <td>8951608</td>\n",
              "      <td>2012-12-31 21:30:00</td>\n",
              "      <td>STREET</td>\n",
              "      <td>False</td>\n",
              "      <td>False</td>\n",
              "      <td>211</td>\n",
              "      <td>2</td>\n",
              "      <td>35</td>\n",
              "      <td>2012</td>\n",
              "    </tr>\n",
              "  </tbody>\n",
              "</table>\n",
              "</div>"
            ],
            "text/plain": [
              "        ID                Date  ... CommunityArea  Year\n",
              "0  8951354 2012-12-31 23:15:00  ...            69  2012\n",
              "1  8951141 2012-12-31 22:00:00  ...            24  2012\n",
              "2  8952745 2012-12-31 22:00:00  ...            11  2012\n",
              "3  8952223 2012-12-31 22:00:00  ...            67  2012\n",
              "4  8951608 2012-12-31 21:30:00  ...            35  2012\n",
              "\n",
              "[5 rows x 9 columns]"
            ]
          },
          "metadata": {
            "tags": []
          },
          "execution_count": 23
        }
      ]
    },
    {
      "cell_type": "code",
      "metadata": {
        "colab": {
          "base_uri": "https://localhost:8080/"
        },
        "id": "xM0WdP80UBQQ",
        "outputId": "c996e7e9-b7e9-4bba-a08d-35b351df4256"
      },
      "source": [
        "chicago_data.isna().sum()"
      ],
      "execution_count": null,
      "outputs": [
        {
          "output_type": "execute_result",
          "data": {
            "text/plain": [
              "ID                         0\n",
              "Date                       0\n",
              "LocationDescription        0\n",
              "Arrest                     0\n",
              "Domestic                   0\n",
              "Beat                       0\n",
              "District               43052\n",
              "CommunityArea          24603\n",
              "Year                       0\n",
              "dtype: int64"
            ]
          },
          "metadata": {
            "tags": []
          },
          "execution_count": 18
        }
      ]
    },
    {
      "cell_type": "markdown",
      "metadata": {
        "id": "Znsv8OkMkM8h"
      },
      "source": [
        "Use the raw data github link above.\n",
        "\n",
        "Data Columns details:\n",
        "1. ID: a unique identifier for each observation.\n",
        "\n",
        "2. Date: the date the crime occurred.\n",
        "LocationDescription: the location where the crime occurred.\n",
        "\n",
        "3. Arrest: whether or not an arrest was made for the crime (TRUE if an arrest was made, and FALSE if an arrest was not made).\n",
        "\n",
        "4. Domestic: whether or not the crime was a domestic crime, meaning that it was committed against a family member (TRUE if it was domestic, and FALSE if it was not domestic).\n",
        "\n",
        "5. Beat: the area, or \"beat\" in which the crime occurred. This is the smallest regional division defined by the Chicago police department.\n",
        "\n",
        "6. District: the police district in which the crime occured. Each district is composed of many beats, and are defined by the Chicago Police Department.\n",
        "\n",
        "7. CommunityArea: the community area in which the crime occurred. Since the 1920s, Chicago has been divided into what are called \"community areas\", of which there are now 77. The community areas were devised in an attempt to create socially homogeneous regions.\n",
        "\n",
        "8. Year: the year in which the crime occurred.\n",
        "Latitude: the latitude of the location at which the crime occurred."
      ]
    },
    {
      "cell_type": "markdown",
      "metadata": {
        "id": "p_5NyRrGWBn1"
      },
      "source": [
        "**Question 1:** What is the Month and Year of the median date in our dataset? *\n",
        "\n",
        "Enter your answer as \"Month Year\", without the quotes.\n",
        "1. January 2006\n",
        "2. March 2006\n",
        "3. May 2006  \n",
        "4. June 2006\n"
      ]
    },
    {
      "cell_type": "code",
      "metadata": {
        "id": "mg6nimHbpX8s",
        "colab": {
          "base_uri": "https://localhost:8080/",
          "height": 299
        },
        "outputId": "917ef241-d94b-4ac8-e553-711f4ffc67d9"
      },
      "source": [
        ""
      ],
      "execution_count": null,
      "outputs": [
        {
          "output_type": "error",
          "ename": "AttributeError",
          "evalue": "ignored",
          "traceback": [
            "\u001b[0;31m---------------------------------------------------------------------------\u001b[0m",
            "\u001b[0;31mAttributeError\u001b[0m                            Traceback (most recent call last)",
            "\u001b[0;32m<ipython-input-39-37f3b96fc05c>\u001b[0m in \u001b[0;36m<module>\u001b[0;34m()\u001b[0m\n\u001b[0;32m----> 1\u001b[0;31m \u001b[0mdates\u001b[0m \u001b[0;34m=\u001b[0m \u001b[0mlist\u001b[0m\u001b[0;34m(\u001b[0m\u001b[0mchicago_data\u001b[0m\u001b[0;34m.\u001b[0m\u001b[0msort\u001b[0m\u001b[0;34m(\u001b[0m\u001b[0;34m'Date'\u001b[0m\u001b[0;34m)\u001b[0m\u001b[0;34m[\u001b[0m\u001b[0;34m'Date'\u001b[0m\u001b[0;34m]\u001b[0m\u001b[0;34m)\u001b[0m\u001b[0;34m\u001b[0m\u001b[0;34m\u001b[0m\u001b[0m\n\u001b[0m\u001b[1;32m      2\u001b[0m \u001b[0mprint\u001b[0m \u001b[0;34m(\u001b[0m\u001b[0mdates\u001b[0m\u001b[0;34m[\u001b[0m\u001b[0mlen\u001b[0m\u001b[0;34m(\u001b[0m\u001b[0mdates\u001b[0m\u001b[0;34m)\u001b[0m\u001b[0;34m//\u001b[0m\u001b[0;36m2\u001b[0m\u001b[0;34m]\u001b[0m\u001b[0;34m)\u001b[0m\u001b[0;34m\u001b[0m\u001b[0;34m\u001b[0m\u001b[0m\n",
            "\u001b[0;32m/usr/local/lib/python3.7/dist-packages/pandas/core/generic.py\u001b[0m in \u001b[0;36m__getattr__\u001b[0;34m(self, name)\u001b[0m\n\u001b[1;32m   5139\u001b[0m             \u001b[0;32mif\u001b[0m \u001b[0mself\u001b[0m\u001b[0;34m.\u001b[0m\u001b[0m_info_axis\u001b[0m\u001b[0;34m.\u001b[0m\u001b[0m_can_hold_identifiers_and_holds_name\u001b[0m\u001b[0;34m(\u001b[0m\u001b[0mname\u001b[0m\u001b[0;34m)\u001b[0m\u001b[0;34m:\u001b[0m\u001b[0;34m\u001b[0m\u001b[0;34m\u001b[0m\u001b[0m\n\u001b[1;32m   5140\u001b[0m                 \u001b[0;32mreturn\u001b[0m \u001b[0mself\u001b[0m\u001b[0;34m[\u001b[0m\u001b[0mname\u001b[0m\u001b[0;34m]\u001b[0m\u001b[0;34m\u001b[0m\u001b[0;34m\u001b[0m\u001b[0m\n\u001b[0;32m-> 5141\u001b[0;31m             \u001b[0;32mreturn\u001b[0m \u001b[0mobject\u001b[0m\u001b[0;34m.\u001b[0m\u001b[0m__getattribute__\u001b[0m\u001b[0;34m(\u001b[0m\u001b[0mself\u001b[0m\u001b[0;34m,\u001b[0m \u001b[0mname\u001b[0m\u001b[0;34m)\u001b[0m\u001b[0;34m\u001b[0m\u001b[0;34m\u001b[0m\u001b[0m\n\u001b[0m\u001b[1;32m   5142\u001b[0m \u001b[0;34m\u001b[0m\u001b[0m\n\u001b[1;32m   5143\u001b[0m     \u001b[0;32mdef\u001b[0m \u001b[0m__setattr__\u001b[0m\u001b[0;34m(\u001b[0m\u001b[0mself\u001b[0m\u001b[0;34m,\u001b[0m \u001b[0mname\u001b[0m\u001b[0;34m:\u001b[0m \u001b[0mstr\u001b[0m\u001b[0;34m,\u001b[0m \u001b[0mvalue\u001b[0m\u001b[0;34m)\u001b[0m \u001b[0;34m->\u001b[0m \u001b[0;32mNone\u001b[0m\u001b[0;34m:\u001b[0m\u001b[0;34m\u001b[0m\u001b[0;34m\u001b[0m\u001b[0m\n",
            "\u001b[0;31mAttributeError\u001b[0m: 'DataFrame' object has no attribute 'sort'"
          ]
        }
      ]
    },
    {
      "cell_type": "markdown",
      "metadata": {
        "id": "EC6CMddoW3dL"
      },
      "source": [
        "**Question 2:** In which month did the lowest motor vehicle thefts occur? *\n",
        "\n",
        "1. January\n",
        "2. February \n",
        "3. March\n",
        "4. April"
      ]
    },
    {
      "cell_type": "code",
      "metadata": {
        "id": "G_JeIuuSrUGU"
      },
      "source": [
        "# Write your code here"
      ],
      "execution_count": null,
      "outputs": []
    },
    {
      "cell_type": "markdown",
      "metadata": {
        "id": "Ox9wmNfBXBNc"
      },
      "source": [
        "**Question 3:** In which month did the highest motor vehicle thefts occur? *\n",
        "\n",
        "1. September\n",
        "2. October\n",
        "3. November\n",
        "4. December\n"
      ]
    },
    {
      "cell_type": "code",
      "metadata": {
        "id": "nOYDbZsysXiC"
      },
      "source": [
        "# Write your code here"
      ],
      "execution_count": null,
      "outputs": []
    },
    {
      "cell_type": "markdown",
      "metadata": {
        "id": "Ixxg-0nIXtrS"
      },
      "source": [
        "**Question 4:** On which day of the week did most motor vehicle thefts occur? \n",
        "1. Monday\n",
        "2. Wednesday\n",
        "3. Friday \n",
        "4. Sunday\n"
      ]
    },
    {
      "cell_type": "code",
      "metadata": {
        "id": "IM4tHdkosppl"
      },
      "source": [
        "# Write your code here"
      ],
      "execution_count": null,
      "outputs": []
    },
    {
      "cell_type": "markdown",
      "metadata": {
        "id": "2nrxCxjJX44G"
      },
      "source": [
        "**Question 5:** Each observation in the dataset represents a motor vehicle theft, and the Arrest variable indicates whether an arrest was later made for this theft. Which month has the largest number of motor vehicle thefts for which an arrest was made? \n",
        "\n",
        "1. January  (correct answer)\n",
        "2. February\n",
        "3. March\n",
        "4. April\n"
      ]
    },
    {
      "cell_type": "code",
      "metadata": {
        "id": "dWKlJDNZtgqp"
      },
      "source": [
        "# Write your code here"
      ],
      "execution_count": null,
      "outputs": []
    },
    {
      "cell_type": "markdown",
      "metadata": {
        "id": "fERgD9_xYHvX"
      },
      "source": [
        "**Question 6:** Select the incorrect statement \n",
        "1. It look like crime decreases from 2002 - 2012\n",
        "2. It look like crime increases from 2005 - 2008\n",
        "3. It look like crime increases from 2009 - 2011\n"
      ]
    },
    {
      "cell_type": "code",
      "metadata": {
        "id": "96Tvz-3AzD6b"
      },
      "source": [
        "# Write your code here"
      ],
      "execution_count": null,
      "outputs": []
    },
    {
      "cell_type": "markdown",
      "metadata": {
        "id": "9b_gZET8YZOV"
      },
      "source": [
        "**Question 7:** Crimes for which more arrests were made are in the first half of the time period or the second half of the time period? *\n",
        "(Note that the time period is from 2001 to 2012, so the middle of the time period is the beginning of 2007.)\n",
        "\n",
        "1. First half\n",
        "2. Second half\n"
      ]
    },
    {
      "cell_type": "code",
      "metadata": {
        "id": "6mtbRkXLzJAY"
      },
      "source": [
        "# Write your code here"
      ],
      "execution_count": null,
      "outputs": []
    },
    {
      "cell_type": "markdown",
      "metadata": {
        "id": "Hm9vag5kYqGX"
      },
      "source": [
        "**Question 8:** For what proportion of motor vehicle thefts in 2001 was an arrest made? *\n",
        "**Note:** In this question, we are asking for an answer as a proportion. Therefore, your answer should take a value between 0 and 1\n",
        "\n",
        "1. 0.06\n",
        "2. 0.08\n",
        "3. 0.10\n",
        "4. 0.12\n"
      ]
    },
    {
      "cell_type": "code",
      "metadata": {
        "id": "VpP5Pw9MzYh5"
      },
      "source": [
        "# Write your code here"
      ],
      "execution_count": null,
      "outputs": []
    },
    {
      "cell_type": "markdown",
      "metadata": {
        "id": "ZYPM-qxkZfM1"
      },
      "source": [
        "**Question 9:** Create a subset of your data, only taking observations for which the theft happened in one of the top five locations for motor vehicle thefts, excluding the \"Other\" category. Call this new data set \"Top5\". How many observations are in Top5?\n",
        "\n",
        "1. 177510 \n",
        "2. 177515\n",
        "3. 177520\n",
        "4. 177525\n"
      ]
    },
    {
      "cell_type": "code",
      "metadata": {
        "id": "UsXUb3MGzc91"
      },
      "source": [
        "# Write your code here"
      ],
      "execution_count": null,
      "outputs": []
    },
    {
      "cell_type": "markdown",
      "metadata": {
        "id": "06wNQi51Z6xS"
      },
      "source": [
        "**Question 10:** On which day of the week do the most motor vehicle thefts at gas stations happen? *\n",
        "\n",
        "1. Tuesday\n",
        "2. Thursday\n",
        "3. Saturday\n",
        "4. Sunday\n"
      ]
    },
    {
      "cell_type": "code",
      "metadata": {
        "id": "jMBvbZ3ebxnP"
      },
      "source": [
        "# Write your code here"
      ],
      "execution_count": null,
      "outputs": []
    }
  ]
}