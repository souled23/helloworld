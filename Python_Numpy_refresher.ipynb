{
  "nbformat": 4,
  "nbformat_minor": 0,
  "metadata": {
    "colab": {
      "name": "Python Numpy refresher",
      "provenance": [],
      "collapsed_sections": [],
      "authorship_tag": "ABX9TyNdyNGsMq/SQ9nlmTqUropH",
      "include_colab_link": true
    },
    "kernelspec": {
      "name": "python3",
      "display_name": "Python 3"
    },
    "language_info": {
      "name": "python"
    }
  },
  "cells": [
    {
      "cell_type": "markdown",
      "metadata": {
        "id": "view-in-github",
        "colab_type": "text"
      },
      "source": [
        "<a href=\"https://colab.research.google.com/github/souled23/helloworld/blob/main/Python_Numpy_refresher.ipynb\" target=\"_parent\"><img src=\"https://colab.research.google.com/assets/colab-badge.svg\" alt=\"Open In Colab\"/></a>"
      ]
    },
    {
      "cell_type": "markdown",
      "metadata": {
        "id": "U6MA764tSqBD"
      },
      "source": [
        "# **Numpy Tutorial**"
      ]
    },
    {
      "cell_type": "markdown",
      "metadata": {
        "id": "A9x2QxDvSzVC"
      },
      "source": [
        "Numpy Constructors"
      ]
    },
    {
      "cell_type": "code",
      "metadata": {
        "id": "EEmndxAfMxNx"
      },
      "source": [
        "import numpy as np"
      ],
      "execution_count": 1,
      "outputs": []
    },
    {
      "cell_type": "code",
      "metadata": {
        "colab": {
          "base_uri": "https://localhost:8080/"
        },
        "id": "tm1IdrD7NA_i",
        "outputId": "a37bc9bd-070a-4c20-8cc6-f458ca5989d0"
      },
      "source": [
        "a=np.array([1,3,4,6,8])\n",
        "print(a)"
      ],
      "execution_count": 3,
      "outputs": [
        {
          "output_type": "stream",
          "name": "stdout",
          "text": [
            "[1 3 4 6 8]\n"
          ]
        }
      ]
    },
    {
      "cell_type": "code",
      "metadata": {
        "colab": {
          "base_uri": "https://localhost:8080/"
        },
        "id": "RV79wNlpM_2s",
        "outputId": "c44001e9-0f99-4d1b-d7df-c17ad719938b"
      },
      "source": [
        "a=np.arange(1,12,2) \n",
        "#start,stop,step\n",
        "print(a)"
      ],
      "execution_count": 5,
      "outputs": [
        {
          "output_type": "stream",
          "name": "stdout",
          "text": [
            "[ 1  3  5  7  9 11]\n"
          ]
        }
      ]
    },
    {
      "cell_type": "code",
      "metadata": {
        "colab": {
          "base_uri": "https://localhost:8080/"
        },
        "id": "Jx3RyK-CM_wm",
        "outputId": "76a78240-3788-4988-9c5b-6a965d2403b2"
      },
      "source": [
        "a=np.linspace(1,2,13)\n",
        "#start,stop,no of items\n",
        "print(a)"
      ],
      "execution_count": 7,
      "outputs": [
        {
          "output_type": "stream",
          "name": "stdout",
          "text": [
            "[1.         1.08333333 1.16666667 1.25       1.33333333 1.41666667\n",
            " 1.5        1.58333333 1.66666667 1.75       1.83333333 1.91666667\n",
            " 2.        ]\n"
          ]
        }
      ]
    },
    {
      "cell_type": "code",
      "metadata": {
        "colab": {
          "base_uri": "https://localhost:8080/"
        },
        "id": "da19GI52M_u9",
        "outputId": "854409bb-c834-49ef-d89a-0fed3cb5643a"
      },
      "source": [
        "A=np.zeros((4,2))\n",
        "print(A)"
      ],
      "execution_count": 11,
      "outputs": [
        {
          "output_type": "stream",
          "name": "stdout",
          "text": [
            "[[0. 0.]\n",
            " [0. 0.]\n",
            " [0. 0.]\n",
            " [0. 0.]]\n"
          ]
        }
      ]
    },
    {
      "cell_type": "code",
      "metadata": {
        "colab": {
          "base_uri": "https://localhost:8080/"
        },
        "id": "0VljSZwrN1zw",
        "outputId": "02a978d2-013b-4b2b-e6d9-537b50bce4be"
      },
      "source": [
        "A=np.ones((2,3),dtype=np.int16)\n",
        "print(A)"
      ],
      "execution_count": 15,
      "outputs": [
        {
          "output_type": "stream",
          "name": "stdout",
          "text": [
            "[[1 1 1]\n",
            " [1 1 1]]\n"
          ]
        }
      ]
    },
    {
      "cell_type": "code",
      "metadata": {
        "colab": {
          "base_uri": "https://localhost:8080/"
        },
        "id": "EqWv_DA3OHQn",
        "outputId": "fe7408f6-2286-40d9-da71-99cb2907730d"
      },
      "source": [
        "A=np.full((6,),88)\n",
        "print(A)"
      ],
      "execution_count": 17,
      "outputs": [
        {
          "output_type": "stream",
          "name": "stdout",
          "text": [
            "[88 88 88 88 88 88]\n"
          ]
        }
      ]
    },
    {
      "cell_type": "code",
      "metadata": {
        "colab": {
          "base_uri": "https://localhost:8080/"
        },
        "id": "5Fum8t_-N1yT",
        "outputId": "2befabfc-918f-4f1c-9a25-dc64a0e84a83"
      },
      "source": [
        "A=np.fromstring('2 3 4 5', dtype=np.int, sep=' ')\n",
        "print(A)"
      ],
      "execution_count": 21,
      "outputs": [
        {
          "output_type": "stream",
          "name": "stdout",
          "text": [
            "[2 3 4 5]\n"
          ]
        }
      ]
    },
    {
      "cell_type": "code",
      "metadata": {
        "colab": {
          "base_uri": "https://localhost:8080/"
        },
        "id": "Z4XxBCt0O2GS",
        "outputId": "55f51796-93aa-4e75-c929-517ba64d300f"
      },
      "source": [
        "A=np.array([[1,2,3],[3,5,6]])\n",
        "print(A)"
      ],
      "execution_count": 23,
      "outputs": [
        {
          "output_type": "stream",
          "name": "stdout",
          "text": [
            "[[1 2 3]\n",
            " [3 5 6]]\n"
          ]
        }
      ]
    },
    {
      "cell_type": "code",
      "metadata": {
        "colab": {
          "base_uri": "https://localhost:8080/"
        },
        "id": "t8WdwKYHPZAK",
        "outputId": "695424eb-cfa8-43a4-9ffc-b9b89aec9b05"
      },
      "source": [
        "b=np.zeros_like(A)\n",
        "print(b)"
      ],
      "execution_count": 24,
      "outputs": [
        {
          "output_type": "stream",
          "name": "stdout",
          "text": [
            "[[0 0 0]\n",
            " [0 0 0]]\n"
          ]
        }
      ]
    },
    {
      "cell_type": "markdown",
      "metadata": {
        "id": "Y5kFdKJaS6rp"
      },
      "source": [
        "Numpy Attributes"
      ]
    },
    {
      "cell_type": "code",
      "metadata": {
        "colab": {
          "base_uri": "https://localhost:8080/"
        },
        "id": "gxl_peKwPgX7",
        "outputId": "1c78e138-7634-4c90-e0b5-7b7d871229e7"
      },
      "source": [
        "print(A.size)\n",
        "print(A.shape)\n",
        "print(A.ndim)\n",
        "print(A.itemsize)\n",
        "print(A.dtype)\n",
        "print(A.nbytes) # a.size*a.itemsize\n"
      ],
      "execution_count": 25,
      "outputs": [
        {
          "output_type": "stream",
          "name": "stdout",
          "text": [
            "6\n",
            "(2, 3)\n",
            "2\n",
            "8\n",
            "int64\n",
            "48\n"
          ]
        }
      ]
    },
    {
      "cell_type": "markdown",
      "metadata": {
        "id": "C0iynlnMS9Q8"
      },
      "source": [
        "Indexing and Slicing"
      ]
    },
    {
      "cell_type": "code",
      "metadata": {
        "colab": {
          "base_uri": "https://localhost:8080/"
        },
        "id": "uMx0DOZ7P36L",
        "outputId": "7d06c314-4104-4313-dbb1-1e56725dda08"
      },
      "source": [
        "print(A)\n",
        "print(A[1])\n",
        "print(A[0,2])\n",
        "print(A[:1])\n",
        "print(A[1:2,2:1]) #[start:stop:step,start:stop:step]"
      ],
      "execution_count": 29,
      "outputs": [
        {
          "output_type": "stream",
          "name": "stdout",
          "text": [
            "[[1 2 3]\n",
            " [3 5 6]]\n",
            "[3 5 6]\n",
            "3\n",
            "[[1 2 3]]\n",
            "[]\n"
          ]
        }
      ]
    },
    {
      "cell_type": "code",
      "metadata": {
        "colab": {
          "base_uri": "https://localhost:8080/"
        },
        "id": "T0gk5829RKmZ",
        "outputId": "a244c3a5-c238-4b0a-d16a-2bf89c2d31e6"
      },
      "source": [
        "b=np.arange(-9,-3,).reshape(2,3)\n",
        "print(b)\n",
        "c=b.swapaxes(0,1)\n",
        "print(c)\n",
        "d=c.flatten()\n",
        "print(d)"
      ],
      "execution_count": 38,
      "outputs": [
        {
          "output_type": "stream",
          "name": "stdout",
          "text": [
            "[[-9 -8 -7]\n",
            " [-6 -5 -4]]\n",
            "[[-9 -6]\n",
            " [-8 -5]\n",
            " [-7 -4]]\n",
            "[-9 -6 -8 -5 -7 -4]\n"
          ]
        }
      ]
    },
    {
      "cell_type": "markdown",
      "metadata": {
        "id": "-eZClwFBTCpT"
      },
      "source": [
        "Numpy Datatypes"
      ]
    },
    {
      "cell_type": "code",
      "metadata": {
        "colab": {
          "base_uri": "https://localhost:8080/"
        },
        "id": "CPS7rd3xSKqZ",
        "outputId": "3527a79e-a9c6-49ab-9997-f6b95a5224bb"
      },
      "source": [
        "import pprint as pp\n",
        "pp.pprint(np.sctypes)"
      ],
      "execution_count": 39,
      "outputs": [
        {
          "output_type": "stream",
          "name": "stdout",
          "text": [
            "{'complex': [<class 'numpy.complex64'>,\n",
            "             <class 'numpy.complex128'>,\n",
            "             <class 'numpy.complex256'>],\n",
            " 'float': [<class 'numpy.float16'>,\n",
            "           <class 'numpy.float32'>,\n",
            "           <class 'numpy.float64'>,\n",
            "           <class 'numpy.float128'>],\n",
            " 'int': [<class 'numpy.int8'>,\n",
            "         <class 'numpy.int16'>,\n",
            "         <class 'numpy.int32'>,\n",
            "         <class 'numpy.int64'>],\n",
            " 'others': [<class 'bool'>,\n",
            "            <class 'object'>,\n",
            "            <class 'bytes'>,\n",
            "            <class 'str'>,\n",
            "            <class 'numpy.void'>],\n",
            " 'uint': [<class 'numpy.uint8'>,\n",
            "          <class 'numpy.uint16'>,\n",
            "          <class 'numpy.uint32'>,\n",
            "          <class 'numpy.uint64'>]}\n"
          ]
        }
      ]
    },
    {
      "cell_type": "markdown",
      "metadata": {
        "id": "mvBL1H5QTHIe"
      },
      "source": [
        "Readiing and Writing using  Numpy"
      ]
    },
    {
      "cell_type": "code",
      "metadata": {
        "id": "JvXjZwoKSaCn"
      },
      "source": [
        "f=np.loadtxt('data.txt',skiprows=1 ,delimiter=',' ,dtype=int.32)\n",
        "np.savetxt('dtaa2.txt',f,delimiter=',' ,dtype=int.32,header='a;b;c;d;e;f;g' ,comments='')"
      ],
      "execution_count": null,
      "outputs": []
    },
    {
      "cell_type": "code",
      "metadata": {
        "id": "cGL4fRBvT5ct"
      },
      "source": [
        "np.genfromtxt(data.txt',skiprows=1 ,delimiter=',' ,dtype=int.32)"
      ],
      "execution_count": null,
      "outputs": []
    },
    {
      "cell_type": "markdown",
      "metadata": {
        "id": "h0yOr6T6UBru"
      },
      "source": [
        "Mathematical Functions"
      ]
    },
    {
      "cell_type": "code",
      "metadata": {
        "colab": {
          "base_uri": "https://localhost:8080/"
        },
        "id": "mh1f5_uUUE3i",
        "outputId": "a23b6d3d-ac9e-4204-81d7-0bdbe5660601"
      },
      "source": [
        "g=np.arange(1,5,1).reshape(2,2)\n",
        "print(g)"
      ],
      "execution_count": 44,
      "outputs": [
        {
          "output_type": "stream",
          "name": "stdout",
          "text": [
            "[[1 2]\n",
            " [3 4]]\n"
          ]
        }
      ]
    },
    {
      "cell_type": "code",
      "metadata": {
        "colab": {
          "base_uri": "https://localhost:8080/"
        },
        "id": "WrxpZFx3UMzF",
        "outputId": "23aed30a-c9fc-42be-a54a-641ed066aac3"
      },
      "source": [
        "print(g>4)"
      ],
      "execution_count": 45,
      "outputs": [
        {
          "output_type": "stream",
          "name": "stdout",
          "text": [
            "[[False False]\n",
            " [False False]]\n"
          ]
        }
      ]
    },
    {
      "cell_type": "code",
      "metadata": {
        "colab": {
          "base_uri": "https://localhost:8080/"
        },
        "id": "rZhAWhH2UQZY",
        "outputId": "c44fef64-820a-4e31-ad33-784293d9d43a"
      },
      "source": [
        "print(g.min())\n",
        "print(g.max())\n",
        "print(g.var())\n",
        "print(g.std())\n",
        "print(g.mean())\n",
        "print(g.sum(axis=1))\n",
        "print(g.argmin())\n",
        "print(g.argmax())"
      ],
      "execution_count": 48,
      "outputs": [
        {
          "output_type": "stream",
          "name": "stdout",
          "text": [
            "1\n",
            "4\n",
            "1.25\n",
            "1.118033988749895\n",
            "2.5\n",
            "[3 7]\n",
            "0\n",
            "3\n"
          ]
        }
      ]
    }
  ]
}