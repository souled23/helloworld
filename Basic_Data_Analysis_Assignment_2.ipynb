{
  "nbformat": 4,
  "nbformat_minor": 0,
  "metadata": {
    "anaconda-cloud": {},
    "kernelspec": {
      "display_name": "Python 3",
      "language": "python",
      "name": "python3"
    },
    "language_info": {
      "codemirror_mode": {
        "name": "ipython",
        "version": 3
      },
      "file_extension": ".py",
      "mimetype": "text/x-python",
      "name": "python",
      "nbconvert_exporter": "python",
      "pygments_lexer": "ipython3",
      "version": "3.7.4"
    },
    "colab": {
      "name": "Basic_Data_Analysis_Assignment_2.ipynb",
      "provenance": [],
      "collapsed_sections": [],
      "include_colab_link": true
    }
  },
  "cells": [
    {
      "cell_type": "markdown",
      "metadata": {
        "id": "view-in-github",
        "colab_type": "text"
      },
      "source": [
        "<a href=\"https://colab.research.google.com/github/souled23/helloworld/blob/main/Basic_Data_Analysis_Assignment_2.ipynb\" target=\"_parent\"><img src=\"https://colab.research.google.com/assets/colab-badge.svg\" alt=\"Open In Colab\"/></a>"
      ]
    },
    {
      "cell_type": "markdown",
      "metadata": {
        "id": "BVS91IxrmlZa"
      },
      "source": [
        "# Summer Analytics 2021 - Basic Data Analysis"
      ]
    },
    {
      "cell_type": "markdown",
      "metadata": {
        "id": "h5RsCZqvmlZg"
      },
      "source": [
        "- #### Welcome to your second assignment, on basic data analysis!\n",
        "- #### This Assignment is ungraded\n",
        "\n",
        "\n",
        "\n"
      ]
    },
    {
      "cell_type": "markdown",
      "metadata": {
        "id": "KI7i51VOmlZh"
      },
      "source": [
        "### 1) Import Pandas and Numpy"
      ]
    },
    {
      "cell_type": "code",
      "metadata": {
        "id": "W7bzVDGemlZh"
      },
      "source": [
        "import pandas as pd\n",
        "import numpy as np"
      ],
      "execution_count": 1,
      "outputs": []
    },
    {
      "cell_type": "markdown",
      "metadata": {
        "id": "79TqQiQVmlZi"
      },
      "source": [
        "### 2) Import the dataset and  Assign it to a variable called Chipo\n",
        "\n",
        "#### Import the dataset from this url 'https://raw.githubusercontent.com/justmarkham/DAT8/master/data/chipotle.tsv '\n",
        "#### REMEMBER: It is a .tsv file , you will have to do some research on how to read .tsv files first!"
      ]
    },
    {
      "cell_type": "code",
      "metadata": {
        "id": "wD3SElRSmlZi"
      },
      "source": [
        "df=pd.read_csv('https://raw.githubusercontent.com/justmarkham/DAT8/master/data/chipotle.tsv ', sep='\\t')"
      ],
      "execution_count": 2,
      "outputs": []
    },
    {
      "cell_type": "markdown",
      "metadata": {
        "id": "R7CI2qVumlZi"
      },
      "source": [
        "### 3) See the first 10 entries"
      ]
    },
    {
      "cell_type": "code",
      "metadata": {
        "scrolled": false,
        "id": "of9AsfcqmlZj",
        "colab": {
          "base_uri": "https://localhost:8080/",
          "height": 363
        },
        "outputId": "d9662e28-c0a6-4bc9-80f3-06788aa9abc8"
      },
      "source": [
        "df.head(10)"
      ],
      "execution_count": 3,
      "outputs": [
        {
          "output_type": "execute_result",
          "data": {
            "text/html": [
              "<div>\n",
              "<style scoped>\n",
              "    .dataframe tbody tr th:only-of-type {\n",
              "        vertical-align: middle;\n",
              "    }\n",
              "\n",
              "    .dataframe tbody tr th {\n",
              "        vertical-align: top;\n",
              "    }\n",
              "\n",
              "    .dataframe thead th {\n",
              "        text-align: right;\n",
              "    }\n",
              "</style>\n",
              "<table border=\"1\" class=\"dataframe\">\n",
              "  <thead>\n",
              "    <tr style=\"text-align: right;\">\n",
              "      <th></th>\n",
              "      <th>order_id</th>\n",
              "      <th>quantity</th>\n",
              "      <th>item_name</th>\n",
              "      <th>choice_description</th>\n",
              "      <th>item_price</th>\n",
              "    </tr>\n",
              "  </thead>\n",
              "  <tbody>\n",
              "    <tr>\n",
              "      <th>0</th>\n",
              "      <td>1</td>\n",
              "      <td>1</td>\n",
              "      <td>Chips and Fresh Tomato Salsa</td>\n",
              "      <td>NaN</td>\n",
              "      <td>$2.39</td>\n",
              "    </tr>\n",
              "    <tr>\n",
              "      <th>1</th>\n",
              "      <td>1</td>\n",
              "      <td>1</td>\n",
              "      <td>Izze</td>\n",
              "      <td>[Clementine]</td>\n",
              "      <td>$3.39</td>\n",
              "    </tr>\n",
              "    <tr>\n",
              "      <th>2</th>\n",
              "      <td>1</td>\n",
              "      <td>1</td>\n",
              "      <td>Nantucket Nectar</td>\n",
              "      <td>[Apple]</td>\n",
              "      <td>$3.39</td>\n",
              "    </tr>\n",
              "    <tr>\n",
              "      <th>3</th>\n",
              "      <td>1</td>\n",
              "      <td>1</td>\n",
              "      <td>Chips and Tomatillo-Green Chili Salsa</td>\n",
              "      <td>NaN</td>\n",
              "      <td>$2.39</td>\n",
              "    </tr>\n",
              "    <tr>\n",
              "      <th>4</th>\n",
              "      <td>2</td>\n",
              "      <td>2</td>\n",
              "      <td>Chicken Bowl</td>\n",
              "      <td>[Tomatillo-Red Chili Salsa (Hot), [Black Beans...</td>\n",
              "      <td>$16.98</td>\n",
              "    </tr>\n",
              "    <tr>\n",
              "      <th>5</th>\n",
              "      <td>3</td>\n",
              "      <td>1</td>\n",
              "      <td>Chicken Bowl</td>\n",
              "      <td>[Fresh Tomato Salsa (Mild), [Rice, Cheese, Sou...</td>\n",
              "      <td>$10.98</td>\n",
              "    </tr>\n",
              "    <tr>\n",
              "      <th>6</th>\n",
              "      <td>3</td>\n",
              "      <td>1</td>\n",
              "      <td>Side of Chips</td>\n",
              "      <td>NaN</td>\n",
              "      <td>$1.69</td>\n",
              "    </tr>\n",
              "    <tr>\n",
              "      <th>7</th>\n",
              "      <td>4</td>\n",
              "      <td>1</td>\n",
              "      <td>Steak Burrito</td>\n",
              "      <td>[Tomatillo Red Chili Salsa, [Fajita Vegetables...</td>\n",
              "      <td>$11.75</td>\n",
              "    </tr>\n",
              "    <tr>\n",
              "      <th>8</th>\n",
              "      <td>4</td>\n",
              "      <td>1</td>\n",
              "      <td>Steak Soft Tacos</td>\n",
              "      <td>[Tomatillo Green Chili Salsa, [Pinto Beans, Ch...</td>\n",
              "      <td>$9.25</td>\n",
              "    </tr>\n",
              "    <tr>\n",
              "      <th>9</th>\n",
              "      <td>5</td>\n",
              "      <td>1</td>\n",
              "      <td>Steak Burrito</td>\n",
              "      <td>[Fresh Tomato Salsa, [Rice, Black Beans, Pinto...</td>\n",
              "      <td>$9.25</td>\n",
              "    </tr>\n",
              "  </tbody>\n",
              "</table>\n",
              "</div>"
            ],
            "text/plain": [
              "   order_id  ...  item_price\n",
              "0         1  ...      $2.39 \n",
              "1         1  ...      $3.39 \n",
              "2         1  ...      $3.39 \n",
              "3         1  ...      $2.39 \n",
              "4         2  ...     $16.98 \n",
              "5         3  ...     $10.98 \n",
              "6         3  ...      $1.69 \n",
              "7         4  ...     $11.75 \n",
              "8         4  ...      $9.25 \n",
              "9         5  ...      $9.25 \n",
              "\n",
              "[10 rows x 5 columns]"
            ]
          },
          "metadata": {},
          "execution_count": 3
        }
      ]
    },
    {
      "cell_type": "markdown",
      "metadata": {
        "id": "0rBhn2qZmlZj"
      },
      "source": [
        "### 4) What is the number of observations in the dataset?"
      ]
    },
    {
      "cell_type": "code",
      "metadata": {
        "id": "-1SC1x2dmlZj",
        "colab": {
          "base_uri": "https://localhost:8080/"
        },
        "outputId": "a875848a-bca0-4458-d89c-15323f06c768"
      },
      "source": [
        "print(df.shape[0])"
      ],
      "execution_count": 5,
      "outputs": [
        {
          "output_type": "stream",
          "name": "stdout",
          "text": [
            "4622\n"
          ]
        }
      ]
    },
    {
      "cell_type": "markdown",
      "metadata": {
        "id": "j7RaUNL7mlZj"
      },
      "source": [
        "### 5) What is the number of columns in the dataset?"
      ]
    },
    {
      "cell_type": "code",
      "metadata": {
        "id": "iHObV4jBmlZk",
        "colab": {
          "base_uri": "https://localhost:8080/"
        },
        "outputId": "00a5b6d4-cca1-47fb-bbae-af858c5dd480"
      },
      "source": [
        "print(df.shape[1])"
      ],
      "execution_count": 6,
      "outputs": [
        {
          "output_type": "stream",
          "name": "stdout",
          "text": [
            "5\n"
          ]
        }
      ]
    },
    {
      "cell_type": "markdown",
      "metadata": {
        "id": "PhUt_caomlZk"
      },
      "source": [
        "### 6) Print the name of all the columns."
      ]
    },
    {
      "cell_type": "code",
      "metadata": {
        "id": "mOZSqJtimlZk",
        "colab": {
          "base_uri": "https://localhost:8080/"
        },
        "outputId": "b4da84c9-60c2-4860-b553-50c690ab2c93"
      },
      "source": [
        "df.columns"
      ],
      "execution_count": 7,
      "outputs": [
        {
          "output_type": "execute_result",
          "data": {
            "text/plain": [
              "Index(['order_id', 'quantity', 'item_name', 'choice_description',\n",
              "       'item_price'],\n",
              "      dtype='object')"
            ]
          },
          "metadata": {},
          "execution_count": 7
        }
      ]
    },
    {
      "cell_type": "markdown",
      "metadata": {
        "id": "ZvJrCW4RmlZk"
      },
      "source": [
        "### 7) Which was the most-ordered item? "
      ]
    },
    {
      "cell_type": "code",
      "metadata": {
        "id": "ToRjoQ4KmlZk",
        "colab": {
          "base_uri": "https://localhost:8080/"
        },
        "outputId": "94b745a2-4f73-4d7e-bb98-70afdd250546"
      },
      "source": [
        "df['item_name'].value_counts()"
      ],
      "execution_count": 9,
      "outputs": [
        {
          "output_type": "execute_result",
          "data": {
            "text/plain": [
              "Chicken Bowl                             726\n",
              "Chicken Burrito                          553\n",
              "Chips and Guacamole                      479\n",
              "Steak Burrito                            368\n",
              "Canned Soft Drink                        301\n",
              "Steak Bowl                               211\n",
              "Chips                                    211\n",
              "Bottled Water                            162\n",
              "Chicken Soft Tacos                       115\n",
              "Chicken Salad Bowl                       110\n",
              "Chips and Fresh Tomato Salsa             110\n",
              "Canned Soda                              104\n",
              "Side of Chips                            101\n",
              "Veggie Burrito                            95\n",
              "Barbacoa Burrito                          91\n",
              "Veggie Bowl                               85\n",
              "Carnitas Bowl                             68\n",
              "Barbacoa Bowl                             66\n",
              "Carnitas Burrito                          59\n",
              "Steak Soft Tacos                          55\n",
              "6 Pack Soft Drink                         54\n",
              "Chips and Tomatillo Red Chili Salsa       48\n",
              "Chicken Crispy Tacos                      47\n",
              "Chips and Tomatillo Green Chili Salsa     43\n",
              "Carnitas Soft Tacos                       40\n",
              "Steak Crispy Tacos                        35\n",
              "Chips and Tomatillo-Green Chili Salsa     31\n",
              "Steak Salad Bowl                          29\n",
              "Nantucket Nectar                          27\n",
              "Barbacoa Soft Tacos                       25\n",
              "Chips and Roasted Chili Corn Salsa        22\n",
              "Izze                                      20\n",
              "Chips and Tomatillo-Red Chili Salsa       20\n",
              "Veggie Salad Bowl                         18\n",
              "Chips and Roasted Chili-Corn Salsa        18\n",
              "Barbacoa Crispy Tacos                     11\n",
              "Barbacoa Salad Bowl                       10\n",
              "Chicken Salad                              9\n",
              "Veggie Soft Tacos                          7\n",
              "Carnitas Crispy Tacos                      7\n",
              "Burrito                                    6\n",
              "Veggie Salad                               6\n",
              "Carnitas Salad Bowl                        6\n",
              "Steak Salad                                4\n",
              "Crispy Tacos                               2\n",
              "Salad                                      2\n",
              "Bowl                                       2\n",
              "Chips and Mild Fresh Tomato Salsa          1\n",
              "Veggie Crispy Tacos                        1\n",
              "Carnitas Salad                             1\n",
              "Name: item_name, dtype: int64"
            ]
          },
          "metadata": {},
          "execution_count": 9
        }
      ]
    },
    {
      "cell_type": "markdown",
      "metadata": {
        "id": "OJqo6oGFmlZl"
      },
      "source": [
        "### 8) For the most-ordered item, how many items were ordered?"
      ]
    },
    {
      "cell_type": "code",
      "metadata": {
        "id": "e80jObKAmlZl",
        "colab": {
          "base_uri": "https://localhost:8080/"
        },
        "outputId": "015fc5b5-6870-4d7a-e09b-6da028e40bf3"
      },
      "source": [
        "df['item_name'].value_counts().max()"
      ],
      "execution_count": 10,
      "outputs": [
        {
          "output_type": "execute_result",
          "data": {
            "text/plain": [
              "726"
            ]
          },
          "metadata": {},
          "execution_count": 10
        }
      ]
    },
    {
      "cell_type": "markdown",
      "metadata": {
        "id": "djD1uMajmlZl"
      },
      "source": [
        "### 9) What was the most ordered item in the choice_description column?"
      ]
    },
    {
      "cell_type": "code",
      "metadata": {
        "id": "udGSOJ7UmlZl",
        "colab": {
          "base_uri": "https://localhost:8080/"
        },
        "outputId": "132bac54-01a6-48ab-dcb1-911e610e0089"
      },
      "source": [
        "df['choice_description'].value_counts()"
      ],
      "execution_count": 11,
      "outputs": [
        {
          "output_type": "execute_result",
          "data": {
            "text/plain": [
              "[Diet Coke]                                                                                               134\n",
              "[Coke]                                                                                                    123\n",
              "[Sprite]                                                                                                   77\n",
              "[Fresh Tomato Salsa, [Rice, Black Beans, Cheese, Sour Cream, Lettuce]]                                     42\n",
              "[Fresh Tomato Salsa, [Rice, Black Beans, Cheese, Sour Cream, Guacamole, Lettuce]]                          40\n",
              "                                                                                                         ... \n",
              "[Roasted Chili Corn Salsa (Medium), [Black Beans, Fajita Veggies, Cheese, Guacamole, Lettuce]]              1\n",
              "[Fresh Tomato Salsa, [Fajita Vegetables, Rice, Black Beans, Pinto Beans, Cheese, Sour Cream, Lettuce]]      1\n",
              "[Fresh Tomato Salsa, [Guacamole, Lettuce]]                                                                  1\n",
              "[Tomatillo Red Chili Salsa, [Rice, Black Beans, Pinto Beans, Cheese, Sour Cream, Guacamole, Lettuce]]       1\n",
              "[Tomatillo Green Chili Salsa, [Rice, Black Beans, Cheese, Guacamole, Lettuce]]                              1\n",
              "Name: choice_description, Length: 1043, dtype: int64"
            ]
          },
          "metadata": {},
          "execution_count": 11
        }
      ]
    },
    {
      "cell_type": "markdown",
      "metadata": {
        "id": "dJwiFc_umlZm"
      },
      "source": [
        "### 10) How many items were ordered in total?"
      ]
    },
    {
      "cell_type": "code",
      "metadata": {
        "id": "TnDdqj2kmlZm"
      },
      "source": [
        ""
      ],
      "execution_count": null,
      "outputs": []
    },
    {
      "cell_type": "markdown",
      "metadata": {
        "id": "b6jd11bYmlZm"
      },
      "source": [
        "### 11) Turn the item price into a float"
      ]
    },
    {
      "cell_type": "code",
      "metadata": {
        "id": "dd0ivpj8mlZm"
      },
      "source": [
        ""
      ],
      "execution_count": null,
      "outputs": []
    },
    {
      "cell_type": "markdown",
      "metadata": {
        "id": "DRETO0SGmlZm"
      },
      "source": [
        "### 12) How much was the revenue for the period in the dataset?\n",
        "#### Revenue will be the sum of quantity * item_price!"
      ]
    },
    {
      "cell_type": "code",
      "metadata": {
        "id": "3kIogdd7mlZm"
      },
      "source": [
        ""
      ],
      "execution_count": null,
      "outputs": []
    },
    {
      "cell_type": "markdown",
      "metadata": {
        "id": "963tji0amlZn"
      },
      "source": [
        "### 13) How many orders were made in the period?"
      ]
    },
    {
      "cell_type": "code",
      "metadata": {
        "id": "3nytKBUgmlZn"
      },
      "source": [
        ""
      ],
      "execution_count": null,
      "outputs": []
    },
    {
      "cell_type": "markdown",
      "metadata": {
        "id": "lU71tTXJmlZn"
      },
      "source": [
        "### 14) What is the average revenue amount per order?"
      ]
    },
    {
      "cell_type": "code",
      "metadata": {
        "id": "MwzvsBoLmlZn"
      },
      "source": [
        ""
      ],
      "execution_count": null,
      "outputs": []
    },
    {
      "cell_type": "markdown",
      "metadata": {
        "id": "HALZkMKvmlZn"
      },
      "source": [
        "### 15) How many different items are sold?"
      ]
    },
    {
      "cell_type": "code",
      "metadata": {
        "id": "CFO7KOwQmlZo"
      },
      "source": [
        ""
      ],
      "execution_count": null,
      "outputs": []
    }
  ]
}