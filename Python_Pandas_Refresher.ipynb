{
  "nbformat": 4,
  "nbformat_minor": 0,
  "metadata": {
    "colab": {
      "name": "Python_Pandas_Refresher.ipynb",
      "provenance": [],
      "authorship_tag": "ABX9TyPuzhDLQpjgzcihR9NmthFy",
      "include_colab_link": true
    },
    "kernelspec": {
      "name": "python3",
      "display_name": "Python 3"
    },
    "language_info": {
      "name": "python"
    }
  },
  "cells": [
    {
      "cell_type": "markdown",
      "metadata": {
        "id": "view-in-github",
        "colab_type": "text"
      },
      "source": [
        "<a href=\"https://colab.research.google.com/github/souled23/helloworld/blob/main/Python_Pandas_Refresher.ipynb\" target=\"_parent\"><img src=\"https://colab.research.google.com/assets/colab-badge.svg\" alt=\"Open In Colab\"/></a>"
      ]
    },
    {
      "cell_type": "code",
      "metadata": {
        "id": "Pr7sOkIDVZdp"
      },
      "source": [
        "import pandas as pd"
      ],
      "execution_count": 1,
      "outputs": []
    },
    {
      "cell_type": "code",
      "metadata": {
        "colab": {
          "base_uri": "https://localhost:8080/"
        },
        "id": "E1T7UHqrV44V",
        "outputId": "09d6c17c-4153-4764-c8a3-a06a54fedcc5"
      },
      "source": [
        "a=pd.DataFrame([[1,2,3],[4,5,6],[6,7,8]],index=[0,1,2],columns=['a','b','c'])\n",
        "print(a)"
      ],
      "execution_count": 5,
      "outputs": [
        {
          "output_type": "stream",
          "name": "stdout",
          "text": [
            "   a  b  c\n",
            "0  1  2  3\n",
            "1  4  5  6\n",
            "2  6  7  8\n"
          ]
        }
      ]
    },
    {
      "cell_type": "code",
      "metadata": {
        "id": "pMU0Fd28WgT4"
      },
      "source": [
        "a=pd.read_csv('filename')"
      ],
      "execution_count": null,
      "outputs": []
    },
    {
      "cell_type": "code",
      "metadata": {
        "colab": {
          "base_uri": "https://localhost:8080/"
        },
        "id": "QGAnPAigW1of",
        "outputId": "0d23e0a9-6d05-40d9-b9d2-4130223316b0"
      },
      "source": [
        "print(a.dtypes)\n",
        "print(a.index)\n",
        "print(a.columns)\n",
        "print(a.values)"
      ],
      "execution_count": 6,
      "outputs": [
        {
          "output_type": "stream",
          "name": "stdout",
          "text": [
            "a    int64\n",
            "b    int64\n",
            "c    int64\n",
            "dtype: object\n",
            "Int64Index([0, 1, 2], dtype='int64')\n",
            "Index(['a', 'b', 'c'], dtype='object')\n",
            "[[1 2 3]\n",
            " [4 5 6]\n",
            " [6 7 8]]\n"
          ]
        }
      ]
    },
    {
      "cell_type": "code",
      "metadata": {
        "colab": {
          "base_uri": "https://localhost:8080/"
        },
        "id": "jtXu7bU4XF1N",
        "outputId": "73ba0867-ab97-47a0-a0cc-31374cd99a06"
      },
      "source": [
        "print(a.describe())"
      ],
      "execution_count": 8,
      "outputs": [
        {
          "output_type": "stream",
          "name": "stdout",
          "text": [
            "              a         b         c\n",
            "count  3.000000  3.000000  3.000000\n",
            "mean   3.666667  4.666667  5.666667\n",
            "std    2.516611  2.516611  2.516611\n",
            "min    1.000000  2.000000  3.000000\n",
            "25%    2.500000  3.500000  4.500000\n",
            "50%    4.000000  5.000000  6.000000\n",
            "75%    5.000000  6.000000  7.000000\n",
            "max    6.000000  7.000000  8.000000\n"
          ]
        }
      ]
    },
    {
      "cell_type": "code",
      "metadata": {
        "colab": {
          "base_uri": "https://localhost:8080/"
        },
        "id": "y0qVApkuXMsS",
        "outputId": "667a07ba-4de6-48c8-82b0-d3a6296f1668"
      },
      "source": [
        "print(a.sort_values('b',ascending=False))"
      ],
      "execution_count": 9,
      "outputs": [
        {
          "output_type": "stream",
          "name": "stdout",
          "text": [
            "   a  b  c\n",
            "2  6  7  8\n",
            "1  4  5  6\n",
            "0  1  2  3\n"
          ]
        }
      ]
    }
  ]
}